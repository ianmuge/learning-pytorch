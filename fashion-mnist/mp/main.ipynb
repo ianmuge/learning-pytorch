{
 "cells": [
  {
   "cell_type": "code",
   "execution_count": null,
   "outputs": [],
   "source": [
    "#general imports\n",
    "import torch\n",
    "from torch import multiprocessing\n",
    "import logging\n",
    "import os\n",
    "import torch\n",
    "import torch.nn as nn\n",
    "import torch.nn.functional as F\n",
    "import torch.optim as optim\n",
    "from torchvision import datasets, transforms\n",
    "\n",
    "use_cuda = torch.cuda.is_available()\n",
    "device = torch.device(\"cuda\" if use_cuda else \"cpu\")\n",
    "dataloader_kwargs = {'pin_memory': True} if use_cuda else {}\n",
    "try:\n",
    "    multiprocessing.set_start_method('spawn')\n",
    "except RuntimeError:\n",
    "    pass"
   ],
   "metadata": {
    "collapsed": false,
    "pycharm": {
     "name": "#%%\n"
    }
   }
  },
  {
   "cell_type": "code",
   "execution_count": null,
   "outputs": [],
   "source": [
    "#model\n",
    "class Net(nn.Module):\n",
    "    def __init__(self):\n",
    "        super(Net, self).__init__()\n",
    "        self.conv1 = nn.Conv2d(1, 10, kernel_size=5)\n",
    "        self.conv2 = nn.Conv2d(10, 20, kernel_size=5)\n",
    "        self.conv2_drop = nn.Dropout2d()\n",
    "        self.fc1 = nn.Linear(320, 50)\n",
    "        self.fc2 = nn.Linear(50, 10)\n",
    "\n",
    "    def forward(self, x):\n",
    "        x=self.conv1(x)\n",
    "        x=F.max_pool2d(x, 2)\n",
    "        x = F.relu(x)\n",
    "        x=self.conv2(x)\n",
    "        x=self.conv2_drop(x)\n",
    "        x=F.max_pool2d(x, 2)\n",
    "        x = F.relu(x)\n",
    "        x = x.view(-1, 320)\n",
    "        x = F.relu(self.fc1(x))\n",
    "        x = F.dropout(x, training=self.training)\n",
    "        x = self.fc2(x)\n",
    "        output=F.log_softmax(x, dim=1)\n",
    "        return output\n",
    "def train(rank, args, model, device,dataloader_kwargs):\n",
    "    torch.manual_seed(args[\"seed\"] + rank)\n",
    "    train_data = datasets.FashionMNIST(\"./data\", train=True,\n",
    "                                       transform=transforms.Compose([\n",
    "                                           transforms.ToTensor(),\n",
    "                                           transforms.Normalize((0.1307,), (0.3081,))\n",
    "                                       ]),\n",
    "                                       target_transform=None,\n",
    "                                       download=True)\n",
    "    train_loader = torch.utils.data.DataLoader(train_data,\n",
    "                                               batch_size=args[\"train_batch_size\"],\n",
    "                                               shuffle=True,\n",
    "                                               num_workers=multiprocessing.cpu_count(),\n",
    "                                               **dataloader_kwargs\n",
    "                                               )\n",
    "    optimizer = optim.SGD(model.parameters(), lr=args[\"lr\"], momentum=args[\"momentum\"])\n",
    "    for epoch in range(1, args[\"epochs\"] + 1):\n",
    "        train_epoch(epoch, args, model, device, train_loader, optimizer)\n",
    "        torch.save(model.state_dict(), \"./mp_mnist_cnn.pt\")\n",
    "def test(args, model, device,dataloader_kwargs):\n",
    "    torch.manual_seed(args[\"seed\"])\n",
    "    test_data = datasets.FashionMNIST(\"./data\", train=False, transform=transforms.Compose([\n",
    "        transforms.ToTensor(),\n",
    "        transforms.Normalize((0.1307,), (0.3081,))\n",
    "    ]), target_transform=None, download=True)\n",
    "    test_loader = torch.utils.data.DataLoader(test_data, \n",
    "                                              batch_size=args[\"test_batch_size\"], \n",
    "                                              shuffle=False,\n",
    "                                              num_workers=multiprocessing.cpu_count(),\n",
    "                                               **dataloader_kwargs)\n",
    "    test_epoch(model, device, test_loader)\n",
    "\n",
    "def train_epoch(epoch, args, model, device, train_loader, optimizer):\n",
    "    model.train()\n",
    "    pid = os.getpid()\n",
    "    for batch_idx, (data, target) in enumerate(train_loader):\n",
    "        data, target = data.to(device), target.to(device)\n",
    "        optimizer.zero_grad()\n",
    "        output = model(data)\n",
    "        loss = F.nll_loss(output, target)\n",
    "        loss.backward()\n",
    "        optimizer.step()\n",
    "        if batch_idx % args[\"log_interval\"] == 0:\n",
    "            print('{}\\tTrain Epoch: {} [{}/{} ({:.0f}%)]\\tLoss: {:.6f}'.format(\n",
    "                pid,epoch, batch_idx * len(data), len(train_loader.dataset),\n",
    "                           100. * batch_idx / len(train_loader), loss.item()))\n",
    "def test_epoch(model, device, test_loader):\n",
    "    model.eval()\n",
    "    test_loss = 0\n",
    "    correct = 0\n",
    "    with torch.no_grad():\n",
    "        for data, target in test_loader:\n",
    "            data, target = data.to(device), target.to(device)\n",
    "            output = model(data)\n",
    "            test_loss += F.nll_loss(output, target, reduction='sum').item()  # sum up batch loss\n",
    "            pred = output.max(1)[1]  # get the index of the max log-probability\n",
    "            correct += pred.eq(target).sum().item()\n",
    "    test_loss /= len(test_loader.dataset)\n",
    "    print('\\nTest set: Average loss: {:.4f}, Accuracy: {}/{} ({:.0f}%)\\n'.format(\n",
    "        test_loss, correct, len(test_loader.dataset),\n",
    "        100. * correct / len(test_loader.dataset)))\n",
    "    "
   ],
   "metadata": {
    "collapsed": false,
    "pycharm": {
     "name": "#%%\n"
    }
   }
  },
  {
   "cell_type": "code",
   "execution_count": null,
   "outputs": [],
   "source": [
    "if __name__ == '__main__':\n",
    "    args={\n",
    "        \"seed\":42,\n",
    "        \"train_batch_size\":250,\n",
    "        \"test_batch_size\":500,\n",
    "        \"lr\":1,\n",
    "        \"momentum\":0.7,\n",
    "        \"epochs\":5,\n",
    "        \"log_interval\":5,\n",
    "        \"num_processes\":2\n",
    "    }\n",
    "\n",
    "    torch.manual_seed(args[\"seed\"])\n",
    "    model = Net().to(device)\n",
    "\n",
    "    model.share_memory()\n",
    "    processes = []\n",
    "    multiprocessing.log_to_stderr()\n",
    "    logger = multiprocessing.get_logger()\n",
    "    logger.setLevel(logging.INFO)\n",
    "    for rank in range(multiprocessing.cpu_count()):\n",
    "        p = multiprocessing.Process(target=train, args=(rank, args, model, device,dataloader_kwargs))\n",
    "        p.start()\n",
    "        processes.append(p)\n",
    "    for p in processes:\n",
    "        p.join()\n",
    "\n",
    "\n",
    "    test(args, model, device,dataloader_kwargs)"
   ],
   "metadata": {
    "collapsed": false,
    "pycharm": {
     "name": "#%%\n"
    }
   }
  }
 ],
 "metadata": {
  "kernelspec": {
   "display_name": "Python 3",
   "language": "python",
   "name": "python3"
  },
  "language_info": {
   "codemirror_mode": {
    "name": "ipython",
    "version": 2
   },
   "file_extension": ".py",
   "mimetype": "text/x-python",
   "name": "python",
   "nbconvert_exporter": "python",
   "pygments_lexer": "ipython2",
   "version": "2.7.6"
  },
  "pycharm": {
   "stem_cell": {
    "cell_type": "raw",
    "source": [],
    "metadata": {
     "collapsed": false
    }
   }
  }
 },
 "nbformat": 4,
 "nbformat_minor": 0
}