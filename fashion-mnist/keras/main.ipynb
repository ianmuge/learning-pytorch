{
  "nbformat": 4,
  "nbformat_minor": 0,
  "metadata": {
    "colab": {
      "name": "Untitled0.ipynb",
      "provenance": [],
      "collapsed_sections": [],
      "machine_shape": "hm"
    },
    "kernelspec": {
      "name": "python3",
      "display_name": "Python 3"
    },
    "accelerator": "GPU"
  },
  "cells": [
    {
      "cell_type": "code",
      "metadata": {
        "id": "OK0h00eyQHwO",
        "colab_type": "code",
        "colab": {
          "base_uri": "https://localhost:8080/",
          "height": 338
        },
        "outputId": "9c1ed1e0-8f51-4cf8-c9b1-5180f9d0f5e5"
      },
      "source": [
        "#base imports\n",
        "import time\n",
        "import os\n",
        "import keras\n",
        "import tensorflow as tf\n",
        "import util\n",
        "#device imports\n",
        "from keras import backend\n",
        "if len(backend.tensorflow_backend._get_available_gpus()) > 0:\n",
        "    from keras.backend.tensorflow_backend import set_session\n",
        "    config = tf.ConfigProto()\n",
        "    config.gpu_options.allow_growth = True\n",
        "    config.log_device_placement = True\n",
        "    sess = tf.Session(config=config)\n",
        "    set_session(sess)\n",
        "    print(\"Using GPU\")\n",
        "else:   \n",
        "    # Install the plaidml backend\n",
        "    import plaidml.keras\n",
        "    plaidml.keras.install_backend()\n",
        "    os.environ[\"KERAS_BACKEND\"] = \"plaidml.keras.backend\"\n",
        "    print(\"Using Plaidml\")\n",
        "\n",
        "#Other imports\n",
        "from keras.datasets import fashion_mnist\n",
        "import numpy as np\n",
        "import matplotlib.pyplot as plt\n",
        "from keras.layers import *\n",
        "from keras.optimizers import *\n",
        "from keras.callbacks import *\n",
        "from keras.utils import *\n",
        "from keras import Model,Sequential\n",
        "from sklearn.metrics import classification_report\n",
        "from keras.utils import np_utils\n"
      ],
      "execution_count": 2,
      "outputs": [
        {
          "output_type": "stream",
          "text": [
            "Using TensorFlow backend.\n"
          ],
          "name": "stderr"
        },
        {
          "output_type": "display_data",
          "data": {
            "text/html": [
              "<p style=\"color: red;\">\n",
              "The default version of TensorFlow in Colab will soon switch to TensorFlow 2.x.<br>\n",
              "We recommend you <a href=\"https://www.tensorflow.org/guide/migrate\" target=\"_blank\">upgrade</a> now \n",
              "or ensure your notebook will continue to use TensorFlow 1.x via the <code>%tensorflow_version 1.x</code> magic:\n",
              "<a href=\"https://colab.research.google.com/notebooks/tensorflow_version.ipynb\" target=\"_blank\">more info</a>.</p>\n"
            ],
            "text/plain": [
              "<IPython.core.display.HTML object>"
            ]
          },
          "metadata": {
            "tags": []
          }
        },
        {
          "output_type": "stream",
          "text": [
            "WARNING:tensorflow:From /usr/local/lib/python3.6/dist-packages/keras/backend/tensorflow_backend.py:190: The name tf.get_default_session is deprecated. Please use tf.compat.v1.get_default_session instead.\n",
            "\n",
            "WARNING:tensorflow:From /usr/local/lib/python3.6/dist-packages/keras/backend/tensorflow_backend.py:197: The name tf.ConfigProto is deprecated. Please use tf.compat.v1.ConfigProto instead.\n",
            "\n",
            "WARNING:tensorflow:From /usr/local/lib/python3.6/dist-packages/keras/backend/tensorflow_backend.py:203: The name tf.Session is deprecated. Please use tf.compat.v1.Session instead.\n",
            "\n",
            "WARNING:tensorflow:From /usr/local/lib/python3.6/dist-packages/keras/backend/tensorflow_backend.py:207: The name tf.global_variables is deprecated. Please use tf.compat.v1.global_variables instead.\n",
            "\n",
            "Device mapping:\n",
            "/job:localhost/replica:0/task:0/device:XLA_CPU:0 -> device: XLA_CPU device\n",
            "/job:localhost/replica:0/task:0/device:XLA_GPU:0 -> device: XLA_GPU device\n",
            "/job:localhost/replica:0/task:0/device:GPU:0 -> device: 0, name: Tesla P100-PCIE-16GB, pci bus id: 0000:00:04.0, compute capability: 6.0\n",
            "\n",
            "Using GPU\n"
          ],
          "name": "stdout"
        }
      ]
    },
    {
      "cell_type": "code",
      "metadata": {
        "id": "qu4FDzCoRoXW",
        "colab_type": "code",
        "colab": {
          "base_uri": "https://localhost:8080/",
          "height": 34
        },
        "outputId": "46480b26-1fa4-4bc6-df0c-29b515f82946"
      },
      "source": [
        "#load data\n",
        "((trainX, trainY), (testX, testY)) = fashion_mnist.load_data()\n",
        "print(\"x_train shape:\", trainX.shape, \"y_train shape:\", testX.shape)"
      ],
      "execution_count": 3,
      "outputs": [
        {
          "output_type": "stream",
          "text": [
            "x_train shape: (60000, 28, 28) y_train shape: (10000, 28, 28)\n"
          ],
          "name": "stdout"
        }
      ]
    },
    {
      "cell_type": "code",
      "metadata": {
        "id": "jGS85wYGTkSr",
        "colab_type": "code",
        "outputId": "d63e46ef-b81d-4ada-c8c1-93170e7f0678",
        "colab": {
          "base_uri": "https://localhost:8080/",
          "height": 127
        }
      },
      "source": [
        "img_index=13\n",
        "util.render_sample_data(trainX[:img_index])\n"
      ],
      "execution_count": 4,
      "outputs": [
        {
          "output_type": "display_data",
          "data": {
            "image/png": "[encoded data removed]",
            "text/plain": [
              "<Figure size 1440x288 with 13 Axes>"
            ]
          },
          "metadata": {
            "tags": []
          }
        }
      ]
    },
    {
      "cell_type": "code",
      "metadata": {
        "id": "LMF9TK8sfoCg",
        "colab_type": "code",
        "colab": {
          "base_uri": "https://localhost:8080/",
          "height": 68
        },
        "outputId": "2cea59bc-6d45-414d-c26b-4c8edafd5b46"
      },
      "source": [
        "#Normalize data\n",
        "trainX = trainX.astype('float32') / 255\n",
        "testX = testX.astype('float32') / 255\n",
        "print(backend.image_data_format())\n",
        "if backend.image_data_format() == \"channels_first\":\n",
        "\ttrainX = trainX.reshape((trainX.shape[0], 1, 28, 28))\n",
        "\ttestX = testX.reshape((testX.shape[0], 1, 28, 28))\n",
        "# otherwise, we are using \"channels last\" ordering, so the design\n",
        "# matrix shape should be: num_samples x rows x columns x depth\n",
        "else:\n",
        "\ttrainX = trainX.reshape((trainX.shape[0], 28, 28, 1))\n",
        "\ttestX = testX.reshape((testX.shape[0], 28, 28, 1))\n",
        "\n",
        "labelNames = [\"top\", \"trouser\", \"pullover\", \"dress\", \"coat\",\n",
        "\t\"sandal\", \"shirt\", \"sneaker\", \"bag\", \"ankle boot\"]\n",
        "trainY = np_utils.to_categorical(trainY, len(labelNames))\n",
        "testY = np_utils.to_categorical(testY, len(labelNames))\n",
        "print(\"x_train shape:\", trainX.shape, \"x_test shape:\", testX.shape)\n",
        "print(\"y_train shape:\", trainY.shape, \"t_test shape:\", testY.shape)"
      ],
      "execution_count": 5,
      "outputs": [
        {
          "output_type": "stream",
          "text": [
            "channels_last\n",
            "x_train shape: (60000, 28, 28, 1) x_test shape: (10000, 28, 28, 1)\n",
            "y_train shape: (60000, 10) t_test shape: (10000, 10)\n"
          ],
          "name": "stdout"
        }
      ]
    },
    {
      "cell_type": "code",
      "metadata": {
        "id": "_lBQjdagwRnj",
        "colab_type": "code",
        "colab": {}
      },
      "source": [
        "#model\n",
        "def build_model(width, height, depth, classes):\n",
        "    # initialize the model along with the input shape to be\n",
        "\t# \"channels last\" and the channels dimension itself\n",
        "\tmodel = Sequential()\n",
        "\tinputShape = (height, width, depth)\n",
        "\tchanDim = -1\n",
        "\t# if we are using \"channels first\", update the input shape\n",
        "\t# and channels dimension\n",
        "\tif backend.image_data_format() == \"channels_first\":\n",
        "\t  inputShape = (depth, height, width)\n",
        "\t  chanDim = 1\n",
        "    \n",
        "  # first CONV => RELU => CONV => RELU => POOL layer set\n",
        "\tmodel.add(Conv2D(32, (3, 3), padding=\"same\",input_shape=inputShape))\n",
        "\tmodel.add(Activation(\"relu\"))\n",
        "\tmodel.add(BatchNormalization(axis=chanDim))\n",
        "\tmodel.add(Conv2D(32, (3, 3), padding=\"same\"))\n",
        "\tmodel.add(Activation(\"relu\"))\n",
        "\tmodel.add(BatchNormalization(axis=chanDim))\n",
        "\tmodel.add(MaxPooling2D(pool_size=(2, 2)))\n",
        "\tmodel.add(Dropout(0.25))\n",
        "\n",
        "\t# second CONV => RELU => CONV => RELU => POOL layer set\n",
        "\tmodel.add(Conv2D(64, (3, 3), padding=\"same\"))\n",
        "\tmodel.add(Activation(\"relu\"))\n",
        "\tmodel.add(BatchNormalization(axis=chanDim))\n",
        "\tmodel.add(Conv2D(64, (3, 3), padding=\"same\"))\n",
        "\tmodel.add(Activation(\"relu\"))\n",
        "\tmodel.add(BatchNormalization(axis=chanDim))\n",
        "\tmodel.add(MaxPooling2D(pool_size=(2, 2)))\n",
        "\tmodel.add(Dropout(0.25))\n",
        "\n",
        "\t# first (and only) set of FC => RELU layers\n",
        "\tmodel.add(Flatten())\n",
        "\tmodel.add(Dense(512))\n",
        "\tmodel.add(Activation(\"relu\"))\n",
        "\tmodel.add(BatchNormalization())\n",
        "\tmodel.add(Dropout(0.5))\n",
        "\n",
        "\t# softmax classifier\n",
        "\tmodel.add(Dense(classes))\n",
        "\tmodel.add(Activation(\"softmax\"))\n",
        "\n",
        "\t# return the constructed network architecture\n",
        "\treturn model"
      ],
      "execution_count": 0,
      "outputs": []
    },
    {
      "cell_type": "code",
      "metadata": {
        "id": "FRDRLyIBwWfg",
        "colab_type": "code",
        "colab": {
          "base_uri": "https://localhost:8080/",
          "height": 1000
        },
        "outputId": "37cbcb3f-4fc9-4157-c280-2647ff780cc3"
      },
      "source": [
        "#variables\n",
        "NUM_EPOCHS = 25\n",
        "INIT_LR = 1e-2\n",
        "BS = 32\n",
        "#train and test\n",
        "print(\"[INFO] compiling model...\")\n",
        "opt = SGD(lr=INIT_LR, momentum=0.9, decay=INIT_LR / NUM_EPOCHS)\n",
        "model = build_model(width=28, height=28, depth=1, classes=10)\n",
        "model.compile(loss=\"categorical_crossentropy\", \n",
        "              optimizer=opt,metrics=[\"accuracy\"])\n",
        "print(model.summary())\n"
      ],
      "execution_count": 7,
      "outputs": [
        {
          "output_type": "stream",
          "text": [
            "[INFO] compiling model...\n",
            "WARNING:tensorflow:From /usr/local/lib/python3.6/dist-packages/keras/backend/tensorflow_backend.py:66: The name tf.get_default_graph is deprecated. Please use tf.compat.v1.get_default_graph instead.\n",
            "\n",
            "WARNING:tensorflow:From /usr/local/lib/python3.6/dist-packages/keras/backend/tensorflow_backend.py:541: The name tf.placeholder is deprecated. Please use tf.compat.v1.placeholder instead.\n",
            "\n",
            "WARNING:tensorflow:From /usr/local/lib/python3.6/dist-packages/keras/backend/tensorflow_backend.py:4432: The name tf.random_uniform is deprecated. Please use tf.random.uniform instead.\n",
            "\n",
            "WARNING:tensorflow:From /usr/local/lib/python3.6/dist-packages/keras/backend/tensorflow_backend.py:2041: The name tf.nn.fused_batch_norm is deprecated. Please use tf.compat.v1.nn.fused_batch_norm instead.\n",
            "\n",
            "WARNING:tensorflow:From /usr/local/lib/python3.6/dist-packages/keras/backend/tensorflow_backend.py:148: The name tf.placeholder_with_default is deprecated. Please use tf.compat.v1.placeholder_with_default instead.\n",
            "\n",
            "WARNING:tensorflow:From /usr/local/lib/python3.6/dist-packages/keras/backend/tensorflow_backend.py:4267: The name tf.nn.max_pool is deprecated. Please use tf.nn.max_pool2d instead.\n",
            "\n",
            "WARNING:tensorflow:From /usr/local/lib/python3.6/dist-packages/keras/backend/tensorflow_backend.py:3733: calling dropout (from tensorflow.python.ops.nn_ops) with keep_prob is deprecated and will be removed in a future version.\n",
            "Instructions for updating:\n",
            "Please use `rate` instead of `keep_prob`. Rate should be set to `rate = 1 - keep_prob`.\n",
            "WARNING:tensorflow:From /usr/local/lib/python3.6/dist-packages/keras/optimizers.py:793: The name tf.train.Optimizer is deprecated. Please use tf.compat.v1.train.Optimizer instead.\n",
            "\n",
            "WARNING:tensorflow:From /usr/local/lib/python3.6/dist-packages/keras/backend/tensorflow_backend.py:3576: The name tf.log is deprecated. Please use tf.math.log instead.\n",
            "\n",
            "Model: \"sequential_1\"\n",
            "_________________________________________________________________\n",
            "Layer (type)                 Output Shape              Param #   \n",
            "=================================================================\n",
            "conv2d_1 (Conv2D)            (None, 28, 28, 32)        320       \n",
            "_________________________________________________________________\n",
            "activation_1 (Activation)    (None, 28, 28, 32)        0         \n",
            "_________________________________________________________________\n",
            "batch_normalization_1 (Batch (None, 28, 28, 32)        128       \n",
            "_________________________________________________________________\n",
            "conv2d_2 (Conv2D)            (None, 28, 28, 32)        9248      \n",
            "_________________________________________________________________\n",
            "activation_2 (Activation)    (None, 28, 28, 32)        0         \n",
            "_________________________________________________________________\n",
            "batch_normalization_2 (Batch (None, 28, 28, 32)        128       \n",
            "_________________________________________________________________\n",
            "max_pooling2d_1 (MaxPooling2 (None, 14, 14, 32)        0         \n",
            "_________________________________________________________________\n",
            "dropout_1 (Dropout)          (None, 14, 14, 32)        0         \n",
            "_________________________________________________________________\n",
            "conv2d_3 (Conv2D)            (None, 14, 14, 64)        18496     \n",
            "_________________________________________________________________\n",
            "activation_3 (Activation)    (None, 14, 14, 64)        0         \n",
            "_________________________________________________________________\n",
            "batch_normalization_3 (Batch (None, 14, 14, 64)        256       \n",
            "_________________________________________________________________\n",
            "conv2d_4 (Conv2D)            (None, 14, 14, 64)        36928     \n",
            "_________________________________________________________________\n",
            "activation_4 (Activation)    (None, 14, 14, 64)        0         \n",
            "_________________________________________________________________\n",
            "batch_normalization_4 (Batch (None, 14, 14, 64)        256       \n",
            "_________________________________________________________________\n",
            "max_pooling2d_2 (MaxPooling2 (None, 7, 7, 64)          0         \n",
            "_________________________________________________________________\n",
            "dropout_2 (Dropout)          (None, 7, 7, 64)          0         \n",
            "_________________________________________________________________\n",
            "flatten_1 (Flatten)          (None, 3136)              0         \n",
            "_________________________________________________________________\n",
            "dense_1 (Dense)              (None, 512)               1606144   \n",
            "_________________________________________________________________\n",
            "activation_5 (Activation)    (None, 512)               0         \n",
            "_________________________________________________________________\n",
            "batch_normalization_5 (Batch (None, 512)               2048      \n",
            "_________________________________________________________________\n",
            "dropout_3 (Dropout)          (None, 512)               0         \n",
            "_________________________________________________________________\n",
            "dense_2 (Dense)              (None, 10)                5130      \n",
            "_________________________________________________________________\n",
            "activation_6 (Activation)    (None, 10)                0         \n",
            "=================================================================\n",
            "Total params: 1,679,082\n",
            "Trainable params: 1,677,674\n",
            "Non-trainable params: 1,408\n",
            "_________________________________________________________________\n",
            "None\n"
          ],
          "name": "stdout"
        }
      ]
    },
    {
      "cell_type": "code",
      "metadata": {
        "id": "KdfIKwUz1gIL",
        "colab_type": "code",
        "colab": {
          "base_uri": "https://localhost:8080/",
          "height": 1000
        },
        "outputId": "d3cb4da8-1cab-404f-e1b8-841aee81eb0d"
      },
      "source": [
        "# train the network\n",
        "print(\"[INFO] training model...\")\n",
        "model_names=\"keras-fashion-mnist.h5\"\n",
        "callbacks=[\n",
        "           ModelCheckpoint(model_names, monitor='acc', verbose=1, save_best_only=True,save_weights_only=False)\n",
        "           ]\n",
        "H = model.fit(trainX, trainY,\n",
        "            validation_split=0.2,\n",
        "\t          batch_size=BS, \n",
        "            epochs=NUM_EPOCHS,\n",
        "            shuffle=True,\n",
        "            workers=2,\n",
        "            use_multiprocessing=True,\n",
        "            callbacks=callbacks)"
      ],
      "execution_count": 10,
      "outputs": [
        {
          "output_type": "stream",
          "text": [
            "[INFO] training model...\n",
            "Train on 48000 samples, validate on 12000 samples\n",
            "Epoch 1/25\n",
            "48000/48000 [==============================] - 17s 348us/step - loss: 0.2101 - acc: 0.9240 - val_loss: 0.1938 - val_acc: 0.9313\n",
            "\n",
            "Epoch 00001: acc improved from -inf to 0.92396, saving model to keras-fashion-mnist.h5\n",
            "Epoch 2/25\n",
            "48000/48000 [==============================] - 17s 350us/step - loss: 0.2043 - acc: 0.9263 - val_loss: 0.2011 - val_acc: 0.9277\n",
            "\n",
            "Epoch 00002: acc improved from 0.92396 to 0.92625, saving model to keras-fashion-mnist.h5\n",
            "Epoch 3/25\n",
            "48000/48000 [==============================] - 17s 348us/step - loss: 0.2036 - acc: 0.9265 - val_loss: 0.2010 - val_acc: 0.9276\n",
            "\n",
            "Epoch 00003: acc improved from 0.92625 to 0.92648, saving model to keras-fashion-mnist.h5\n",
            "Epoch 4/25\n",
            "48000/48000 [==============================] - 17s 363us/step - loss: 0.1992 - acc: 0.9290 - val_loss: 0.1895 - val_acc: 0.9314\n",
            "\n",
            "Epoch 00004: acc improved from 0.92648 to 0.92898, saving model to keras-fashion-mnist.h5\n",
            "Epoch 5/25\n",
            "48000/48000 [==============================] - 17s 352us/step - loss: 0.1943 - acc: 0.9283 - val_loss: 0.1893 - val_acc: 0.9319\n",
            "\n",
            "Epoch 00005: acc did not improve from 0.92898\n",
            "Epoch 6/25\n",
            "48000/48000 [==============================] - 17s 349us/step - loss: 0.1921 - acc: 0.9295 - val_loss: 0.1921 - val_acc: 0.9323\n",
            "\n",
            "Epoch 00006: acc improved from 0.92898 to 0.92952, saving model to keras-fashion-mnist.h5\n",
            "Epoch 7/25\n",
            "48000/48000 [==============================] - 17s 353us/step - loss: 0.1915 - acc: 0.9304 - val_loss: 0.2028 - val_acc: 0.9286\n",
            "\n",
            "Epoch 00007: acc improved from 0.92952 to 0.93040, saving model to keras-fashion-mnist.h5\n",
            "Epoch 8/25\n",
            "48000/48000 [==============================] - 17s 346us/step - loss: 0.1896 - acc: 0.9303 - val_loss: 0.1866 - val_acc: 0.9323\n",
            "\n",
            "Epoch 00008: acc did not improve from 0.93040\n",
            "Epoch 9/25\n",
            "48000/48000 [==============================] - 17s 346us/step - loss: 0.1851 - acc: 0.9333 - val_loss: 0.1892 - val_acc: 0.9330\n",
            "\n",
            "Epoch 00009: acc improved from 0.93040 to 0.93329, saving model to keras-fashion-mnist.h5\n",
            "Epoch 10/25\n",
            "48000/48000 [==============================] - 17s 348us/step - loss: 0.1875 - acc: 0.9326 - val_loss: 0.1842 - val_acc: 0.9320\n",
            "\n",
            "Epoch 00010: acc did not improve from 0.93329\n",
            "Epoch 11/25\n",
            "48000/48000 [==============================] - 17s 346us/step - loss: 0.1814 - acc: 0.9351 - val_loss: 0.1836 - val_acc: 0.9352\n",
            "\n",
            "Epoch 00011: acc improved from 0.93329 to 0.93515, saving model to keras-fashion-mnist.h5\n",
            "Epoch 12/25\n",
            "48000/48000 [==============================] - 17s 345us/step - loss: 0.1812 - acc: 0.9343 - val_loss: 0.1834 - val_acc: 0.9339\n",
            "\n",
            "Epoch 00012: acc did not improve from 0.93515\n",
            "Epoch 13/25\n",
            "48000/48000 [==============================] - 17s 351us/step - loss: 0.1785 - acc: 0.9358 - val_loss: 0.1841 - val_acc: 0.9351\n",
            "\n",
            "Epoch 00013: acc improved from 0.93515 to 0.93583, saving model to keras-fashion-mnist.h5\n",
            "Epoch 14/25\n",
            "48000/48000 [==============================] - 17s 346us/step - loss: 0.1793 - acc: 0.9339 - val_loss: 0.1811 - val_acc: 0.9337\n",
            "\n",
            "Epoch 00014: acc did not improve from 0.93583\n",
            "Epoch 15/25\n",
            "48000/48000 [==============================] - 17s 347us/step - loss: 0.1754 - acc: 0.9352 - val_loss: 0.1841 - val_acc: 0.9322\n",
            "\n",
            "Epoch 00015: acc did not improve from 0.93583\n",
            "Epoch 16/25\n",
            "48000/48000 [==============================] - 17s 349us/step - loss: 0.1711 - acc: 0.9386 - val_loss: 0.1866 - val_acc: 0.9322\n",
            "\n",
            "Epoch 00016: acc improved from 0.93583 to 0.93856, saving model to keras-fashion-mnist.h5\n",
            "Epoch 17/25\n",
            "48000/48000 [==============================] - 17s 347us/step - loss: 0.1737 - acc: 0.9365 - val_loss: 0.1787 - val_acc: 0.9362\n",
            "\n",
            "Epoch 00017: acc did not improve from 0.93856\n",
            "Epoch 18/25\n",
            "48000/48000 [==============================] - 17s 347us/step - loss: 0.1729 - acc: 0.9364 - val_loss: 0.1821 - val_acc: 0.9373\n",
            "\n",
            "Epoch 00018: acc did not improve from 0.93856\n",
            "Epoch 19/25\n",
            "48000/48000 [==============================] - 17s 346us/step - loss: 0.1717 - acc: 0.9372 - val_loss: 0.1798 - val_acc: 0.9365\n",
            "\n",
            "Epoch 00019: acc did not improve from 0.93856\n",
            "Epoch 20/25\n",
            "48000/48000 [==============================] - 17s 351us/step - loss: 0.1700 - acc: 0.9382 - val_loss: 0.1773 - val_acc: 0.9359\n",
            "\n",
            "Epoch 00020: acc did not improve from 0.93856\n",
            "Epoch 21/25\n",
            "48000/48000 [==============================] - 17s 353us/step - loss: 0.1670 - acc: 0.9394 - val_loss: 0.1817 - val_acc: 0.9360\n",
            "\n",
            "Epoch 00021: acc improved from 0.93856 to 0.93940, saving model to keras-fashion-mnist.h5\n",
            "Epoch 22/25\n",
            "48000/48000 [==============================] - 17s 354us/step - loss: 0.1661 - acc: 0.9385 - val_loss: 0.1797 - val_acc: 0.9358\n",
            "\n",
            "Epoch 00022: acc did not improve from 0.93940\n",
            "Epoch 23/25\n",
            "48000/48000 [==============================] - 17s 352us/step - loss: 0.1645 - acc: 0.9402 - val_loss: 0.1804 - val_acc: 0.9359\n",
            "\n",
            "Epoch 00023: acc improved from 0.93940 to 0.94017, saving model to keras-fashion-mnist.h5\n",
            "Epoch 24/25\n",
            "48000/48000 [==============================] - 17s 346us/step - loss: 0.1618 - acc: 0.9414 - val_loss: 0.1781 - val_acc: 0.9360\n",
            "\n",
            "Epoch 00024: acc improved from 0.94017 to 0.94140, saving model to keras-fashion-mnist.h5\n",
            "Epoch 25/25\n",
            "48000/48000 [==============================] - 17s 350us/step - loss: 0.1647 - acc: 0.9398 - val_loss: 0.1784 - val_acc: 0.9357\n",
            "\n",
            "Epoch 00025: acc did not improve from 0.94140\n"
          ],
          "name": "stdout"
        }
      ]
    },
    {
      "cell_type": "code",
      "metadata": {
        "id": "OS1IIfo1w7cS",
        "colab_type": "code",
        "colab": {
          "base_uri": "https://localhost:8080/",
          "height": 904
        },
        "outputId": "4ef3c72a-bdc1-4df1-920c-7db2cde5e0d7"
      },
      "source": [
        "#test\n",
        "preds = model.predict(testX) \n",
        "# show a nicely formatted classification report\n",
        "print(\"[INFO] evaluating network...\")\n",
        "print(classification_report(testY.argmax(axis=1), preds.argmax(axis=1),target_names=labelNames))\n",
        " \n",
        "# plot the training loss and accuracy\n",
        "\n",
        "plt.style.use(\"ggplot\")\n",
        "plt.figure()\n",
        "plt.plot(np.arange(0, NUM_EPOCHS), H.history[\"loss\"], label=\"train_loss\")\n",
        "plt.plot(np.arange(0, NUM_EPOCHS), H.history[\"val_loss\"], label=\"val_loss\")\n",
        "plt.title(\"Training Loss on Dataset\")\n",
        "plt.xlabel(\"Epoch #\")\n",
        "plt.ylabel(\"Loss\")\n",
        "plt.legend(loc=\"best\")\n",
        "\n",
        "plt.figure()\n",
        "plt.plot(np.arange(0, NUM_EPOCHS), H.history[\"acc\"], label=\"train_acc\")\n",
        "plt.plot(np.arange(0, NUM_EPOCHS), H.history[\"val_acc\"], label=\"val_acc\")\n",
        "plt.title(\"Accuracy on Dataset\")\n",
        "plt.xlabel(\"Epoch #\")\n",
        "plt.ylabel(\"Accuracy\")\n",
        "plt.legend(loc=\"best\")"
      ],
      "execution_count": 11,
      "outputs": [
        {
          "output_type": "stream",
          "text": [
            "[INFO] evaluating network...\n",
            "              precision    recall  f1-score   support\n",
            "\n",
            "         top       0.89      0.88      0.88      1000\n",
            "     trouser       1.00      0.98      0.99      1000\n",
            "    pullover       0.93      0.88      0.91      1000\n",
            "       dress       0.93      0.92      0.93      1000\n",
            "        coat       0.87      0.92      0.89      1000\n",
            "      sandal       0.99      0.99      0.99      1000\n",
            "       shirt       0.78      0.80      0.79      1000\n",
            "     sneaker       0.96      0.98      0.97      1000\n",
            "         bag       0.99      0.99      0.99      1000\n",
            "  ankle boot       0.98      0.96      0.97      1000\n",
            "\n",
            "    accuracy                           0.93     10000\n",
            "   macro avg       0.93      0.93      0.93     10000\n",
            "weighted avg       0.93      0.93      0.93     10000\n",
            "\n"
          ],
          "name": "stdout"
        },
        {
          "output_type": "execute_result",
          "data": {
            "text/plain": [
              "<matplotlib.legend.Legend at 0x7f7e6e275c50>"
            ]
          },
          "metadata": {
            "tags": []
          },
          "execution_count": 11
        },
        {
          "output_type": "display_data",
          "data": {
            "image/png": "[encoded data removed]",
            "text/plain": [
              "<Figure size 432x288 with 1 Axes>"
            ]
          },
          "metadata": {
            "tags": []
          }
        },
        {
          "output_type": "display_data",
          "data": {
            "image/png": "[encoded data removed]",
            "text/plain": [
              "<Figure size 432x288 with 1 Axes>"
            ]
          },
          "metadata": {
            "tags": []
          }
        }
      ]
    }
  ]
}